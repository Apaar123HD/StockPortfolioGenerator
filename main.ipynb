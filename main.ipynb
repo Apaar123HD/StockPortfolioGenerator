{
 "cells": [
  {
   "metadata": {
    "ExecuteTime": {
     "end_time": "2025-04-16T04:59:14.024855Z",
     "start_time": "2025-04-16T04:59:14.013550Z"
    }
   },
   "cell_type": "code",
   "source": [
    "import yfinance as yf\n",
    "import numpy as np\n",
    "from sklearn.linear_model import LinearRegression\n",
    "import matplotlib.pyplot as plt\n",
    "from itertools import combinations\n",
    "import random\n",
    "import time"
   ],
   "id": "47d46c553f969940",
   "outputs": [],
   "execution_count": 28
  },
  {
   "metadata": {
    "ExecuteTime": {
     "end_time": "2025-04-16T04:59:33.271619Z",
     "start_time": "2025-04-16T04:59:14.048342Z"
    }
   },
   "cell_type": "code",
   "source": [
    "# asking user for risk appetite \n",
    "desired_risk = input(\"Enter desired risk (High, Medium, Low): \").lower()\n",
    "risk_thresholds = {\n",
    "    \"low\": (0, 0.8),\n",
    "    \"medium\": (0.8, 1.2),\n",
    "    \"high\": (1.2, float('inf'))\n",
    "}\n",
    "if desired_risk not in risk_thresholds:\n",
    "    raise ValueError(\"Invalid risk level. Choose from 'high', 'medium', or 'low'.\")\n",
    "\n",
    "# asking user for stock symbols\n",
    "stocks_given = input(\"Enter stock symbols (separated by commas): \").replace(\" \", \"\").split(\",\")\n",
    "if len(stocks_given) < 15:\n",
    "    raise ValueError(\"Please provide at least 15 stock symbols.\")\n",
    "market_given = \"^GSPC\"\n",
    "tickers_list = stocks_given + [market_given]\n",
    "\n",
    "# downloading data\n",
    "print(\"Downloading data...\")\n",
    "stock_data = yf.download(tickers_list, period='5y', interval='1d')['Close'].dropna()\n",
    "returns = stock_data.pct_change().dropna()\n",
    "returns.rename(columns={market_given: 'Market'}, inplace=True)\n",
    "\n",
    "# setting risk free rate of return and expected market return\n",
    "rf_annual = 0.0435\n",
    "rf_daily = rf_annual / 252\n",
    "expected_market_return = returns['Market'].mean() * 252\n",
    "lower, upper = risk_thresholds[desired_risk]\n",
    "\n",
    "# asking user for time limit they want to give\n",
    "stocks_wanted = int(input(\"How many stocks do you want a portfolio of?: \"))\n",
    "start_time = time.time()\n",
    "time_limit = int(input(\"Enter time limit in seconds (The higher the better): \"))\n",
    "print(f\"Searching best {stocks_wanted}-stock portfolio for {time_limit} seconds...\")\n",
    "\n",
    "# setting the best for itertools\n",
    "best_combo = None\n",
    "best_beta = None\n",
    "best_return = -np.inf\n",
    "best_returns_df = None\n",
    "attempts = 0\n",
    "\n",
    "# running combinations and finding the best one\n",
    "for combo in combinations(stocks_given, stocks_wanted):\n",
    "    if time.time() - start_time > time_limit:\n",
    "        break\n",
    "\n",
    "    portfolio_returns = returns[list(combo)].mean(axis=1)\n",
    "    excess_portfolio = portfolio_returns - rf_daily\n",
    "    excess_market = returns['Market'] - rf_daily\n",
    "\n",
    "    X = excess_market.values.reshape(-1, 1)\n",
    "    y = excess_portfolio.values.reshape(-1, 1)\n",
    "    model = LinearRegression().fit(X, y)\n",
    "    beta = model.coef_[0][0]\n",
    "\n",
    "    if lower <= beta < upper:\n",
    "        expected_return = rf_annual + beta * (expected_market_return - rf_annual)\n",
    "        if expected_return > best_return:\n",
    "            best_combo = combo\n",
    "            best_beta = beta\n",
    "            best_return = expected_return\n",
    "            best_returns_df = portfolio_returns.to_frame(name=\"Portfolio\")\n",
    "            best_returns_df['Market'] = returns['Market']\n",
    "\n",
    "    attempts += 1\n",
    "\n",
    "# output\n",
    "if best_combo:\n",
    "    print(\"\\n🏆 Best Portfolio Found in Time Limit:\")\n",
    "    print(f\"Stocks: {best_combo}\")\n",
    "    print(f\"Beta: {best_beta:.4f}\")\n",
    "    print(f\"Expected Annual Return: {best_return:.4%}\")\n",
    "    print(f\"Expected Market Return: {expected_market_return:.4%}\")\n",
    "    print(f\"Combinations Tested: {attempts}\")\n",
    "\n",
    "    # Plotting\n",
    "    plt.figure(figsize=(12, 6))\n",
    "    plt.scatter(best_returns_df.index, best_returns_df['Portfolio'], label='Portfolio')\n",
    "    plt.scatter(best_returns_df.index, best_returns_df['Market'], label='Market', alpha=0.7)\n",
    "    plt.title(f\"Best Portfolio (within {time_limit}s) vs Market\")\n",
    "    plt.legend()\n",
    "    plt.grid(True)\n",
    "    plt.show()\n",
    "else:\n",
    "    print(\"\\n❌ No matching portfolio found in 15 seconds.\")\n",
    "    print(f\"Combinations Tested: {attempts}\")"
   ],
   "id": "da315afaa9e8979d",
   "outputs": [
    {
     "ename": "KeyboardInterrupt",
     "evalue": "Interrupted by user",
     "output_type": "error",
     "traceback": [
      "\u001B[0;31m---------------------------------------------------------------------------\u001B[0m",
      "\u001B[0;31mKeyboardInterrupt\u001B[0m                         Traceback (most recent call last)",
      "Cell \u001B[0;32mIn[29], line 12\u001B[0m\n\u001B[1;32m      9\u001B[0m     \u001B[38;5;28;01mraise\u001B[39;00m \u001B[38;5;167;01mValueError\u001B[39;00m(\u001B[38;5;124m\"\u001B[39m\u001B[38;5;124mInvalid risk level. Choose from \u001B[39m\u001B[38;5;124m'\u001B[39m\u001B[38;5;124mhigh\u001B[39m\u001B[38;5;124m'\u001B[39m\u001B[38;5;124m, \u001B[39m\u001B[38;5;124m'\u001B[39m\u001B[38;5;124mmedium\u001B[39m\u001B[38;5;124m'\u001B[39m\u001B[38;5;124m, or \u001B[39m\u001B[38;5;124m'\u001B[39m\u001B[38;5;124mlow\u001B[39m\u001B[38;5;124m'\u001B[39m\u001B[38;5;124m.\u001B[39m\u001B[38;5;124m\"\u001B[39m)\n\u001B[1;32m     11\u001B[0m \u001B[38;5;66;03m# asking user for stock symbols\u001B[39;00m\n\u001B[0;32m---> 12\u001B[0m stocks_given \u001B[38;5;241m=\u001B[39m \u001B[38;5;28;43minput\u001B[39;49m\u001B[43m(\u001B[49m\u001B[38;5;124;43m\"\u001B[39;49m\u001B[38;5;124;43mEnter stock symbols (separated by commas): \u001B[39;49m\u001B[38;5;124;43m\"\u001B[39;49m\u001B[43m)\u001B[49m\u001B[38;5;241m.\u001B[39mreplace(\u001B[38;5;124m\"\u001B[39m\u001B[38;5;124m \u001B[39m\u001B[38;5;124m\"\u001B[39m, \u001B[38;5;124m\"\u001B[39m\u001B[38;5;124m\"\u001B[39m)\u001B[38;5;241m.\u001B[39msplit(\u001B[38;5;124m\"\u001B[39m\u001B[38;5;124m,\u001B[39m\u001B[38;5;124m\"\u001B[39m)\n\u001B[1;32m     13\u001B[0m \u001B[38;5;28;01mif\u001B[39;00m \u001B[38;5;28mlen\u001B[39m(stocks_given) \u001B[38;5;241m<\u001B[39m \u001B[38;5;241m15\u001B[39m:\n\u001B[1;32m     14\u001B[0m     \u001B[38;5;28;01mraise\u001B[39;00m \u001B[38;5;167;01mValueError\u001B[39;00m(\u001B[38;5;124m\"\u001B[39m\u001B[38;5;124mPlease provide at least 15 stock symbols.\u001B[39m\u001B[38;5;124m\"\u001B[39m)\n",
      "File \u001B[0;32m~/Library/Caches/JetBrains/PyCharm2024.2/demo/PyCharmLearningProject/venv/lib/python3.9/site-packages/ipykernel/kernelbase.py:1282\u001B[0m, in \u001B[0;36mKernel.raw_input\u001B[0;34m(self, prompt)\u001B[0m\n\u001B[1;32m   1280\u001B[0m     msg \u001B[38;5;241m=\u001B[39m \u001B[38;5;124m\"\u001B[39m\u001B[38;5;124mraw_input was called, but this frontend does not support input requests.\u001B[39m\u001B[38;5;124m\"\u001B[39m\n\u001B[1;32m   1281\u001B[0m     \u001B[38;5;28;01mraise\u001B[39;00m StdinNotImplementedError(msg)\n\u001B[0;32m-> 1282\u001B[0m \u001B[38;5;28;01mreturn\u001B[39;00m \u001B[38;5;28;43mself\u001B[39;49m\u001B[38;5;241;43m.\u001B[39;49m\u001B[43m_input_request\u001B[49m\u001B[43m(\u001B[49m\n\u001B[1;32m   1283\u001B[0m \u001B[43m    \u001B[49m\u001B[38;5;28;43mstr\u001B[39;49m\u001B[43m(\u001B[49m\u001B[43mprompt\u001B[49m\u001B[43m)\u001B[49m\u001B[43m,\u001B[49m\n\u001B[1;32m   1284\u001B[0m \u001B[43m    \u001B[49m\u001B[38;5;28;43mself\u001B[39;49m\u001B[38;5;241;43m.\u001B[39;49m\u001B[43m_parent_ident\u001B[49m\u001B[43m[\u001B[49m\u001B[38;5;124;43m\"\u001B[39;49m\u001B[38;5;124;43mshell\u001B[39;49m\u001B[38;5;124;43m\"\u001B[39;49m\u001B[43m]\u001B[49m\u001B[43m,\u001B[49m\n\u001B[1;32m   1285\u001B[0m \u001B[43m    \u001B[49m\u001B[38;5;28;43mself\u001B[39;49m\u001B[38;5;241;43m.\u001B[39;49m\u001B[43mget_parent\u001B[49m\u001B[43m(\u001B[49m\u001B[38;5;124;43m\"\u001B[39;49m\u001B[38;5;124;43mshell\u001B[39;49m\u001B[38;5;124;43m\"\u001B[39;49m\u001B[43m)\u001B[49m\u001B[43m,\u001B[49m\n\u001B[1;32m   1286\u001B[0m \u001B[43m    \u001B[49m\u001B[43mpassword\u001B[49m\u001B[38;5;241;43m=\u001B[39;49m\u001B[38;5;28;43;01mFalse\u001B[39;49;00m\u001B[43m,\u001B[49m\n\u001B[1;32m   1287\u001B[0m \u001B[43m\u001B[49m\u001B[43m)\u001B[49m\n",
      "File \u001B[0;32m~/Library/Caches/JetBrains/PyCharm2024.2/demo/PyCharmLearningProject/venv/lib/python3.9/site-packages/ipykernel/kernelbase.py:1325\u001B[0m, in \u001B[0;36mKernel._input_request\u001B[0;34m(self, prompt, ident, parent, password)\u001B[0m\n\u001B[1;32m   1322\u001B[0m \u001B[38;5;28;01mexcept\u001B[39;00m \u001B[38;5;167;01mKeyboardInterrupt\u001B[39;00m:\n\u001B[1;32m   1323\u001B[0m     \u001B[38;5;66;03m# re-raise KeyboardInterrupt, to truncate traceback\u001B[39;00m\n\u001B[1;32m   1324\u001B[0m     msg \u001B[38;5;241m=\u001B[39m \u001B[38;5;124m\"\u001B[39m\u001B[38;5;124mInterrupted by user\u001B[39m\u001B[38;5;124m\"\u001B[39m\n\u001B[0;32m-> 1325\u001B[0m     \u001B[38;5;28;01mraise\u001B[39;00m \u001B[38;5;167;01mKeyboardInterrupt\u001B[39;00m(msg) \u001B[38;5;28;01mfrom\u001B[39;00m \u001B[38;5;28;01mNone\u001B[39;00m\n\u001B[1;32m   1326\u001B[0m \u001B[38;5;28;01mexcept\u001B[39;00m \u001B[38;5;167;01mException\u001B[39;00m:\n\u001B[1;32m   1327\u001B[0m     \u001B[38;5;28mself\u001B[39m\u001B[38;5;241m.\u001B[39mlog\u001B[38;5;241m.\u001B[39mwarning(\u001B[38;5;124m\"\u001B[39m\u001B[38;5;124mInvalid Message:\u001B[39m\u001B[38;5;124m\"\u001B[39m, exc_info\u001B[38;5;241m=\u001B[39m\u001B[38;5;28;01mTrue\u001B[39;00m)\n",
      "\u001B[0;31mKeyboardInterrupt\u001B[0m: Interrupted by user"
     ]
    }
   ],
   "execution_count": 29
  }
 ],
 "metadata": {
  "kernelspec": {
   "display_name": "Python 3",
   "language": "python",
   "name": "python3"
  },
  "language_info": {
   "codemirror_mode": {
    "name": "ipython",
    "version": 2
   },
   "file_extension": ".py",
   "mimetype": "text/x-python",
   "name": "python",
   "nbconvert_exporter": "python",
   "pygments_lexer": "ipython2",
   "version": "2.7.6"
  }
 },
 "nbformat": 4,
 "nbformat_minor": 5
}
